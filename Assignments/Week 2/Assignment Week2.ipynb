{
 "cells": [
  {
   "cell_type": "code",
   "execution_count": 2,
   "metadata": {},
   "outputs": [
    {
     "name": "stdout",
     "output_type": "stream",
     "text": [
      "My name is Areej, I am 28 years old, and I live in Pakistan\n"
     ]
    }
   ],
   "source": [
    "# Assignment 1\n",
    "\n",
    "name = \"Areej\"\n",
    "age = 28\n",
    "country = \"Pakistan\"\n",
    "print(\"My name is \" + name + \", I am \" + str(age) + \" years old, and I live in \" + country)"
   ]
  },
  {
   "cell_type": "code",
   "execution_count": 4,
   "metadata": {},
   "outputs": [
    {
     "name": "stdout",
     "output_type": "stream",
     "text": [
      "I bought 10 book(s) at 50.0 each, for a total of $500.0\n"
     ]
    }
   ],
   "source": [
    "# Assignment 2\n",
    "\n",
    "item = \"book\"\n",
    "price = 50.0\n",
    "quantity = 10\n",
    "totalCost = price * quantity\n",
    "print(\"I bought {} {}(s) at {} each, for a total of ${}\".format(quantity, item, price, totalCost))"
   ]
  },
  {
   "cell_type": "code",
   "execution_count": 7,
   "metadata": {},
   "outputs": [
    {
     "name": "stdout",
     "output_type": "stream",
     "text": [
      "The temperature in Karachi is 40℃\n"
     ]
    }
   ],
   "source": [
    "# Assignment 3\n",
    "\n",
    "city = \"Karachi\"\n",
    "temperature = 40\n",
    "print(f\"The temperature in {city} is {temperature}℃\")"
   ]
  },
  {
   "cell_type": "code",
   "execution_count": 8,
   "metadata": {},
   "outputs": [
    {
     "name": "stdout",
     "output_type": "stream",
     "text": [
      "My name is Areej Javed. I am 28 years old\n"
     ]
    }
   ],
   "source": [
    "# Assignment 4\n",
    "\n",
    "firstName = \"Areej\"\n",
    "lastName = \"Javed\"\n",
    "birthYear = 1995\n",
    "currentYear = 2023\n",
    "age = 2023 - birthYear\n",
    "print(\"My name is %s %s. I am %d years old\" %(firstName, lastName, age))"
   ]
  },
  {
   "cell_type": "code",
   "execution_count": 1,
   "metadata": {},
   "outputs": [
    {
     "name": "stdout",
     "output_type": "stream",
     "text": [
      "I bought a 2000.0Rs worth dress at 1800.0Rs after 10% discount.\n"
     ]
    }
   ],
   "source": [
    "# Assignment 5\n",
    "\n",
    "product = \"dress\"\n",
    "discount = 10\n",
    "originalPrice = 2000.0\n",
    "discountedPrice = originalPrice * (1 - discount / 100)\n",
    "print(f\"I bought a {originalPrice}Rs worth {product} at {discountedPrice}Rs after {discount}% discount.\")"
   ]
  }
 ],
 "metadata": {
  "kernelspec": {
   "display_name": "base",
   "language": "python",
   "name": "python3"
  },
  "language_info": {
   "codemirror_mode": {
    "name": "ipython",
    "version": 3
   },
   "file_extension": ".py",
   "mimetype": "text/x-python",
   "name": "python",
   "nbconvert_exporter": "python",
   "pygments_lexer": "ipython3",
   "version": "3.11.3"
  },
  "orig_nbformat": 4,
  "vscode": {
   "interpreter": {
    "hash": "8ffcd47687854b5a255d200178afd0bc210f3fb89177613d291105312c84089e"
   }
  }
 },
 "nbformat": 4,
 "nbformat_minor": 2
}
