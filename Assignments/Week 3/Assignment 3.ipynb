{
 "cells": [
  {
   "cell_type": "markdown",
   "metadata": {},
   "source": [
    "Question 1: Basic List Operations\n",
    "\n",
    "a) Create a list named `fruits` containing the following items: \"apple\", \"banana\", \"orange\", \"grape\", \"kiwi\".\n",
    "\n",
    "b) Add \"pear\" to the end of the list.\n",
    "\n",
    "c) Insert \"mango\" at the second position in the list.\n",
    "\n",
    "d) Remove \"orange\" from the list."
   ]
  },
  {
   "cell_type": "code",
   "execution_count": 6,
   "metadata": {},
   "outputs": [
    {
     "name": "stdout",
     "output_type": "stream",
     "text": [
      "a) ['apple', 'banana', 'orange', 'grape', 'kiwi']\n",
      "b) ['apple', 'banana', 'orange', 'grape', 'kiwi', 'pear']\n",
      "c) ['apple', 'mango', 'banana', 'orange', 'grape', 'kiwi', 'pear']\n",
      "d) ['apple', 'mango', 'banana', 'grape', 'kiwi', 'pear']\n"
     ]
    }
   ],
   "source": [
    "fruits = [\"apple\", \"banana\", \"orange\", \"grape\", \"kiwi\"]\n",
    "print(\"a) \" + str(fruits))\n",
    "fruits.append(\"pear\")\n",
    "print(\"b) \" + str(fruits))\n",
    "fruits.insert(1, \"mango\")\n",
    "print(\"c) \" + str(fruits))\n",
    "fruits.remove(\"orange\")\n",
    "print(\"d) \" + str(fruits))"
   ]
  },
  {
   "cell_type": "markdown",
   "metadata": {},
   "source": [
    "Question 2: Slicing and Indexing\n",
    "\n",
    "a) Create a list named `numbers` containing the integers from 0 to 9.\n",
    "\n",
    "b) Print the element at index 3.\n",
    "\n",
    "c) Print a sublist containing the elements from index 2 to 6 (inclusive).\n",
    "\n",
    "d) Print the last three elements using negative indexing."
   ]
  },
  {
   "cell_type": "code",
   "execution_count": 1,
   "metadata": {},
   "outputs": [
    {
     "name": "stdout",
     "output_type": "stream",
     "text": [
      "a) [0, 1, 2, 3, 4, 5, 6, 7, 8, 9]\n",
      "b) 3\n",
      "c) [2, 3, 4, 5, 6]\n",
      "d) [7, 8, 9]\n"
     ]
    }
   ],
   "source": [
    "numbers = list(range(0,10))\n",
    "print(\"a) \" + str(numbers))\n",
    "print(\"b) \" + str(numbers[3]))\n",
    "print(\"c) \" + str(numbers[2 : 7]))\n",
    "print(\"d) \" + str(numbers[-3 : ]))"
   ]
  },
  {
   "cell_type": "markdown",
   "metadata": {},
   "source": [
    "Question 3: List Comprehension\n",
    "\n",
    "a) Create a list named `squares` using a list comprehension that contains the squares of numbers from 1 to 10.\n",
    "\n",
    "b) Create a new list named `even_squares` using a list comprehension that contains the squares of even numbers from the `squares` list."
   ]
  },
  {
   "cell_type": "code",
   "execution_count": 78,
   "metadata": {},
   "outputs": [
    {
     "name": "stdout",
     "output_type": "stream",
     "text": [
      "a) [1, 4, 9, 16, 25, 36, 49, 64, 81, 100]\n",
      "b) [16, 256, 1296, 4096, 10000]\n"
     ]
    }
   ],
   "source": [
    "squares = [x ** 2 for x in range(1, 11)]\n",
    "even_squares = [x ** 2 for x in squares if x % 2 == 0]\n",
    "\n",
    "print(\"a) \" + str(squares))\n",
    "print(\"b) \" + str(even_squares))"
   ]
  },
  {
   "cell_type": "markdown",
   "metadata": {},
   "source": [
    "Question 4: List Manipulation\n",
    "\n",
    "a) Create a list named `colors` containing the following items: \"red\", \"green\", \"blue\", \"yellow\", \"purple\".\n",
    "\n",
    "b) Swap the first and last elements of the list.\n",
    "\n",
    "c) Reverse the order of the list.\n",
    "\n",
    "d) Remove the second and third elements from the list."
   ]
  },
  {
   "cell_type": "code",
   "execution_count": 80,
   "metadata": {},
   "outputs": [
    {
     "name": "stdout",
     "output_type": "stream",
     "text": [
      "a) ['red', 'green', 'blue', 'yellow', 'purple']\n",
      "b) ['purple', 'green', 'blue', 'yellow', 'red']\n",
      "c) ['red', 'yellow', 'blue', 'green', 'purple']\n",
      "d) ['red', 'green', 'purple']\n"
     ]
    }
   ],
   "source": [
    "colors = [\"red\", \"green\", \"blue\", \"yellow\", \"purple\"]\n",
    "print(\"a) \" + str(colors))\n",
    "colors[0], colors[-1] = colors[-1], colors[0]\n",
    "print(\"b) \" + str(colors))\n",
    "colors.reverse()\n",
    "print(\"c) \" + str(colors))\n",
    "del colors[1:3]\n",
    "print(\"d) \" + str(colors))\n"
   ]
  },
  {
   "cell_type": "markdown",
   "metadata": {},
   "source": [
    "Question 5: Advanced Slicing\n",
    "\n",
    "a) Create a list named `letters` containing the letters from 'a' to 'j'.\n",
    "\n",
    "b) Using slicing, create a new list `first_half` containing the first half of the `letters` list.\n",
    "\n",
    "c) Using slicing, create a new list `last_three` containing the last three elements of the `letters` list."
   ]
  },
  {
   "cell_type": "code",
   "execution_count": 83,
   "metadata": {},
   "outputs": [
    {
     "name": "stdout",
     "output_type": "stream",
     "text": [
      "a) ['a', 'b', 'c', 'd', 'e', 'f', 'g', 'h', 'i', 'j']\n",
      "b) ['a', 'b', 'c', 'd', 'e']\n",
      "c) ['h', 'i', 'j']\n"
     ]
    }
   ],
   "source": [
    "letters = [ chr(i) for i in range(97, 107)]\n",
    "first_half = letters[: int(len(letters)/2)]\n",
    "last_three = letters[-3:]\n",
    "\n",
    "print(\"a) \" + str(letters))\n",
    "print(\"b) \" + str(first_half))\n",
    "print(\"c) \" + str(last_three))"
   ]
  },
  {
   "cell_type": "markdown",
   "metadata": {},
   "source": [
    "Question 6: Nested Lists\n",
    "\n",
    "a) Create a nested list named `matrix` with the following rows:\n",
    "   - [1, 2, 3]\n",
    "   - [4, 5, 6]\n",
    "   - [7, 8, 9]\n",
    "\n",
    "b) Print the element in the second row and third column.\n",
    "\n",
    "c) Use nested indexing to change the value at the second row and first column to 0.\n"
   ]
  },
  {
   "cell_type": "code",
   "execution_count": 76,
   "metadata": {},
   "outputs": [
    {
     "name": "stdout",
     "output_type": "stream",
     "text": [
      "a) [[1, 2, 3], [4, 5, 6], [7, 8, 9]]\n",
      "b) 6\n",
      "c) [[1, 2, 3], [0, 5, 6], [7, 8, 9]]\n"
     ]
    }
   ],
   "source": [
    "import numpy as np\n",
    "\n",
    "matrix = np.arange(1,10).reshape(3,3).tolist()\n",
    "print(\"a) \" + str(matrix))\n",
    "print(\"b) \" + str(matrix[1][2]))\n",
    "matrix[1][0] = 0\n",
    "print(\"c) \" + str(matrix))"
   ]
  }
 ],
 "metadata": {
  "kernelspec": {
   "display_name": "base",
   "language": "python",
   "name": "python3"
  },
  "language_info": {
   "codemirror_mode": {
    "name": "ipython",
    "version": 3
   },
   "file_extension": ".py",
   "mimetype": "text/x-python",
   "name": "python",
   "nbconvert_exporter": "python",
   "pygments_lexer": "ipython3",
   "version": "3.11.3"
  },
  "orig_nbformat": 4
 },
 "nbformat": 4,
 "nbformat_minor": 2
}
